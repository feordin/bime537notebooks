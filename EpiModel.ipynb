{
 "cells": [
  {
   "cell_type": "markdown",
   "metadata": {},
   "source": [
    "# Simulate an disease spread model"
   ]
  },
  {
   "cell_type": "markdown",
   "metadata": {},
   "source": [
    "## Install Packages"
   ]
  },
  {
   "cell_type": "code",
   "execution_count": null,
   "metadata": {
    "vscode": {
     "languageId": "r"
    }
   },
   "outputs": [
    {
     "name": "stderr",
     "output_type": "stream",
     "text": [
      "Installing package into 'C:/Users/feord/AppData/Local/R/win-library/4.4'\n",
      "(as 'lib' is unspecified)\n",
      "\n",
      "also installing the dependencies 'DEoptimR', 'cachem', 'rbibutils', 'robustbase', 'ergm.multi', 'trust', 'lpSolveAPI', 'rle', 'memoise', 'Rdpack', 'deSolve', 'networkDynamic', 'tergm', 'statnet.common', 'doParallel', 'ergm', 'network', 'ape', 'coda', 'networkLite'\n",
      "\n",
      "\n"
     ]
    }
   ],
   "source": [
    "install.packages(\"EpiModel\")  # Install EpiModel if not already installed\n",
    "library(EpiModel)  # Load the package"
   ]
  }
 ],
 "metadata": {
  "kernelspec": {
   "display_name": "R",
   "language": "R",
   "name": "ir"
  },
  "language_info": {
   "codemirror_mode": "r",
   "file_extension": ".r",
   "mimetype": "text/x-r-source",
   "name": "R",
   "pygments_lexer": "r",
   "version": "4.4.2"
  }
 },
 "nbformat": 4,
 "nbformat_minor": 2
}
