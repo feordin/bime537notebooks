{
 "cells": [
  {
   "cell_type": "markdown",
   "metadata": {},
   "source": [
    "# Simple correlation example"
   ]
  },
  {
   "cell_type": "code",
   "execution_count": 2,
   "metadata": {},
   "outputs": [
    {
     "data": {
      "image/png": "[encoded data removed]",
      "text/plain": [
       "plot without title"
      ]
     },
     "metadata": {
      "image/png": {
       "height": 420,
       "width": 420
      }
     },
     "output_type": "display_data"
    }
   ],
   "source": [
    "x <- c(2, 3, 3, 5, 6, 9, 14, 15, 19, 21, 22, 23)\n",
    "y <- c(23, 24, 24, 23, 17, 28, 38, 34, 35, 39, 41, 43)\n",
    "\n",
    "#create scatterplot \n",
    "plot(x, y, pch=16)\n",
    "# Regression line\n",
    "abline(lm(y ~ x), col = \"red\", lwd = 3)"
   ]
  },
  {
   "cell_type": "code",
   "execution_count": null,
   "metadata": {},
   "outputs": [],
   "source": [
    "cor.test(x, y)"
   ]
  },
  {
   "cell_type": "markdown",
   "metadata": {
    "nteract": {
     "transient": {
      "deleting": false
     }
    },
    "tags": []
   },
   "source": [
    "# Load and check data"
   ]
  },
  {
   "cell_type": "code",
   "execution_count": 9,
   "metadata": {
    "gather": {
     "logged": 1643237448016
    }
   },
   "outputs": [
    {
     "data": {
      "text/html": [
       "<table class=\"dataframe\">\n",
       "<caption>A data.frame: 6 × 12</caption>\n",
       "<thead>\n",
       "\t<tr><th></th><th scope=col>Sex</th><th scope=col>Wr.Hnd</th><th scope=col>NW.Hnd</th><th scope=col>W.Hnd</th><th scope=col>Fold</th><th scope=col>Pulse</th><th scope=col>Clap</th><th scope=col>Exer</th><th scope=col>Smoke</th><th scope=col>Height</th><th scope=col>M.I</th><th scope=col>Age</th></tr>\n",
       "\t<tr><th></th><th scope=col>&lt;fct&gt;</th><th scope=col>&lt;dbl&gt;</th><th scope=col>&lt;dbl&gt;</th><th scope=col>&lt;fct&gt;</th><th scope=col>&lt;fct&gt;</th><th scope=col>&lt;int&gt;</th><th scope=col>&lt;fct&gt;</th><th scope=col>&lt;fct&gt;</th><th scope=col>&lt;fct&gt;</th><th scope=col>&lt;dbl&gt;</th><th scope=col>&lt;fct&gt;</th><th scope=col>&lt;dbl&gt;</th></tr>\n",
       "</thead>\n",
       "<tbody>\n",
       "\t<tr><th scope=row>1</th><td>Female</td><td>18.5</td><td>18.0</td><td>Right</td><td>R on L </td><td> 92</td><td>Left   </td><td>Some</td><td>Never</td><td>173.00</td><td>Metric  </td><td>18.250</td></tr>\n",
       "\t<tr><th scope=row>2</th><td>Male  </td><td>19.5</td><td>20.5</td><td>Left </td><td>R on L </td><td>104</td><td>Left   </td><td>None</td><td>Regul</td><td>177.80</td><td>Imperial</td><td>17.583</td></tr>\n",
       "\t<tr><th scope=row>3</th><td>Male  </td><td>18.0</td><td>13.3</td><td>Right</td><td>L on R </td><td> 87</td><td>Neither</td><td>None</td><td>Occas</td><td>    NA</td><td>NA      </td><td>16.917</td></tr>\n",
       "\t<tr><th scope=row>4</th><td>Male  </td><td>18.8</td><td>18.9</td><td>Right</td><td>R on L </td><td> NA</td><td>Neither</td><td>None</td><td>Never</td><td>160.00</td><td>Metric  </td><td>20.333</td></tr>\n",
       "\t<tr><th scope=row>5</th><td>Male  </td><td>20.0</td><td>20.0</td><td>Right</td><td>Neither</td><td> 35</td><td>Right  </td><td>Some</td><td>Never</td><td>165.00</td><td>Metric  </td><td>23.667</td></tr>\n",
       "\t<tr><th scope=row>6</th><td>Female</td><td>18.0</td><td>17.7</td><td>Right</td><td>L on R </td><td> 64</td><td>Right  </td><td>Some</td><td>Never</td><td>172.72</td><td>Imperial</td><td>21.000</td></tr>\n",
       "</tbody>\n",
       "</table>\n"
      ],
      "text/latex": [
       "A data.frame: 6 × 12\n",
       "\\begin{tabular}{r|llllllllllll}\n",
       "  & Sex & Wr.Hnd & NW.Hnd & W.Hnd & Fold & Pulse & Clap & Exer & Smoke & Height & M.I & Age\\\\\n",
       "  & <fct> & <dbl> & <dbl> & <fct> & <fct> & <int> & <fct> & <fct> & <fct> & <dbl> & <fct> & <dbl>\\\\\n",
       "\\hline\n",
       "\t1 & Female & 18.5 & 18.0 & Right & R on L  &  92 & Left    & Some & Never & 173.00 & Metric   & 18.250\\\\\n",
       "\t2 & Male   & 19.5 & 20.5 & Left  & R on L  & 104 & Left    & None & Regul & 177.80 & Imperial & 17.583\\\\\n",
       "\t3 & Male   & 18.0 & 13.3 & Right & L on R  &  87 & Neither & None & Occas &     NA & NA       & 16.917\\\\\n",
       "\t4 & Male   & 18.8 & 18.9 & Right & R on L  &  NA & Neither & None & Never & 160.00 & Metric   & 20.333\\\\\n",
       "\t5 & Male   & 20.0 & 20.0 & Right & Neither &  35 & Right   & Some & Never & 165.00 & Metric   & 23.667\\\\\n",
       "\t6 & Female & 18.0 & 17.7 & Right & L on R  &  64 & Right   & Some & Never & 172.72 & Imperial & 21.000\\\\\n",
       "\\end{tabular}\n"
      ],
      "text/markdown": [
       "\n",
       "A data.frame: 6 × 12\n",
       "\n",
       "| <!--/--> | Sex &lt;fct&gt; | Wr.Hnd &lt;dbl&gt; | NW.Hnd &lt;dbl&gt; | W.Hnd &lt;fct&gt; | Fold &lt;fct&gt; | Pulse &lt;int&gt; | Clap &lt;fct&gt; | Exer &lt;fct&gt; | Smoke &lt;fct&gt; | Height &lt;dbl&gt; | M.I &lt;fct&gt; | Age &lt;dbl&gt; |\n",
       "|---|---|---|---|---|---|---|---|---|---|---|---|---|\n",
       "| 1 | Female | 18.5 | 18.0 | Right | R on L  |  92 | Left    | Some | Never | 173.00 | Metric   | 18.250 |\n",
       "| 2 | Male   | 19.5 | 20.5 | Left  | R on L  | 104 | Left    | None | Regul | 177.80 | Imperial | 17.583 |\n",
       "| 3 | Male   | 18.0 | 13.3 | Right | L on R  |  87 | Neither | None | Occas |     NA | NA       | 16.917 |\n",
       "| 4 | Male   | 18.8 | 18.9 | Right | R on L  |  NA | Neither | None | Never | 160.00 | Metric   | 20.333 |\n",
       "| 5 | Male   | 20.0 | 20.0 | Right | Neither |  35 | Right   | Some | Never | 165.00 | Metric   | 23.667 |\n",
       "| 6 | Female | 18.0 | 17.7 | Right | L on R  |  64 | Right   | Some | Never | 172.72 | Imperial | 21.000 |\n",
       "\n"
      ],
      "text/plain": [
       "  Sex    Wr.Hnd NW.Hnd W.Hnd Fold    Pulse Clap    Exer Smoke Height M.I     \n",
       "1 Female 18.5   18.0   Right R on L   92   Left    Some Never 173.00 Metric  \n",
       "2 Male   19.5   20.5   Left  R on L  104   Left    None Regul 177.80 Imperial\n",
       "3 Male   18.0   13.3   Right L on R   87   Neither None Occas     NA NA      \n",
       "4 Male   18.8   18.9   Right R on L   NA   Neither None Never 160.00 Metric  \n",
       "5 Male   20.0   20.0   Right Neither  35   Right   Some Never 165.00 Metric  \n",
       "6 Female 18.0   17.7   Right L on R   64   Right   Some Never 172.72 Imperial\n",
       "  Age   \n",
       "1 18.250\n",
       "2 17.583\n",
       "3 16.917\n",
       "4 20.333\n",
       "5 23.667\n",
       "6 21.000"
      ]
     },
     "metadata": {},
     "output_type": "display_data"
    },
    {
     "data": {
      "text/html": [
       "\n",
       "<table style=\"width: 100%;\"><tr><td>survey {MASS}</td><td style=\"text-align: right;\">R Documentation</td></tr></table>\n",
       "\n",
       "<h2>\n",
       "Student Survey Data\n",
       "</h2>\n",
       "\n",
       "<h3>Description</h3>\n",
       "\n",
       "<p>This data frame contains the responses of 237 Statistics I students at\n",
       "the University of Adelaide to a number of questions.\n",
       "</p>\n",
       "\n",
       "\n",
       "<h3>Usage</h3>\n",
       "\n",
       "<pre><code class='language-R'>survey\n",
       "</code></pre>\n",
       "\n",
       "\n",
       "<h3>Format</h3>\n",
       "\n",
       "<p>The components of the data frame are:\n",
       "</p>\n",
       "\n",
       "<dl>\n",
       "<dt><code>Sex</code></dt><dd>\n",
       "<p>The sex of the student. (Factor with levels <code>\"Male\"</code> and <code>\"Female\"</code>.)\n",
       "</p>\n",
       "</dd>\n",
       "<dt><code>Wr.Hnd</code></dt><dd>\n",
       "<p>span (distance from tip of thumb to tip of little finger of spread\n",
       "hand) of writing hand, in centimetres.\n",
       "</p>\n",
       "</dd>\n",
       "<dt><code>NW.Hnd</code></dt><dd>\n",
       "<p>span of non-writing hand.\n",
       "</p>\n",
       "</dd>\n",
       "<dt><code>W.Hnd</code></dt><dd>\n",
       "<p>writing hand of student. (Factor, with levels <code>\"Left\"</code> and <code>\"Right\"</code>.)\n",
       "</p>\n",
       "</dd>\n",
       "<dt><code>Fold</code></dt><dd>\n",
       "<p>&ldquo;Fold your arms! Which is on top&rdquo; (Factor, with levels\n",
       "<code>\"R on L\"</code>, <code>\"L on R\"</code>, <code>\"Neither\"</code>.)\n",
       "</p>\n",
       "</dd>\n",
       "<dt><code>Pulse</code></dt><dd>\n",
       "<p>pulse rate of student (beats per minute).\n",
       "</p>\n",
       "</dd>\n",
       "<dt><code>Clap</code></dt><dd>\n",
       "<p>&lsquo;Clap your hands!  Which hand is on top?&rsquo; (Factor, with levels\n",
       "<code>\"Right\"</code>, <code>\"Left\"</code>, <code>\"Neither\"</code>.)\n",
       "</p>\n",
       "</dd>\n",
       "<dt><code>Exer</code></dt><dd>\n",
       "<p>how often the student exercises. (Factor, with levels <code>\"Freq\"</code>\n",
       "(frequently), <code>\"Some\"</code>, <code>\"None\"</code>.)\n",
       "</p>\n",
       "</dd>\n",
       "<dt><code>Smoke</code></dt><dd>\n",
       "<p>how much the student smokes. (Factor, levels <code>\"Heavy\"</code>,\n",
       "<code>\"Regul\"</code> (regularly), <code>\"Occas\"</code> (occasionally),\n",
       "<code>\"Never\"</code>.)\n",
       "</p>\n",
       "</dd>\n",
       "<dt><code>Height</code></dt><dd>\n",
       "<p>height of the student in centimetres.\n",
       "</p>\n",
       "</dd>\n",
       "<dt><code>M.I</code></dt><dd>\n",
       "<p>whether the student expressed height in imperial\n",
       "(feet/inches) or metric (centimetres/metres) units. (Factor, levels\n",
       "<code>\"Metric\"</code>, <code>\"Imperial\"</code>.)\n",
       "</p>\n",
       "</dd>\n",
       "<dt><code>Age</code></dt><dd>\n",
       "<p>age of the student in years.\n",
       "</p>\n",
       "</dd>\n",
       "</dl>\n",
       "\n",
       "\n",
       "\n",
       "<h3>References</h3>\n",
       "\n",
       "<p>Venables, W. N. and Ripley, B. D. (2002)\n",
       "<em>Modern Applied Statistics with S-PLUS.</em> Fourth Edition. Springer.\n",
       "</p>\n",
       "\n",
       "<hr /><div style=\"text-align: center;\">[Package <em>MASS</em> version 7.3-58 ]</div>\n",
       "</div>"
      ],
      "text/latex": [
       "\\inputencoding{utf8}\n",
       "\\HeaderA{survey}{Student Survey Data}{survey}\n",
       "\\keyword{datasets}{survey}\n",
       "%\n",
       "\\begin{Description}\\relax\n",
       "This data frame contains the responses of 237 Statistics I students at\n",
       "the University of Adelaide to a number of questions.\n",
       "\\end{Description}\n",
       "%\n",
       "\\begin{Usage}\n",
       "\\begin{verbatim}\n",
       "survey\n",
       "\\end{verbatim}\n",
       "\\end{Usage}\n",
       "%\n",
       "\\begin{Format}\n",
       "The components of the data frame are:\n",
       "\\begin{description}\n",
       "\n",
       "\\item[\\code{Sex}] \n",
       "The sex of the student. (Factor with levels \\code{\"Male\"} and \\code{\"Female\"}.)\n",
       "\n",
       "\\item[\\code{Wr.Hnd}] \n",
       "span (distance from tip of thumb to tip of little finger of spread\n",
       "hand) of writing hand, in centimetres.\n",
       "\n",
       "\\item[\\code{NW.Hnd}] \n",
       "span of non-writing hand.\n",
       "\n",
       "\\item[\\code{W.Hnd}] \n",
       "writing hand of student. (Factor, with levels \\code{\"Left\"} and \\code{\"Right\"}.)\n",
       "\n",
       "\\item[\\code{Fold}] \n",
       "``Fold your arms! Which is on top'' (Factor, with levels\n",
       "\\code{\"R on L\"}, \\code{\"L on R\"}, \\code{\"Neither\"}.)\n",
       "\n",
       "\\item[\\code{Pulse}] \n",
       "pulse rate of student (beats per minute).\n",
       "\n",
       "\\item[\\code{Clap}] \n",
       "`Clap your hands!  Which hand is on top?' (Factor, with levels\n",
       "\\code{\"Right\"}, \\code{\"Left\"}, \\code{\"Neither\"}.)\n",
       "\n",
       "\\item[\\code{Exer}] \n",
       "how often the student exercises. (Factor, with levels \\code{\"Freq\"}\n",
       "(frequently), \\code{\"Some\"}, \\code{\"None\"}.)\n",
       "\n",
       "\\item[\\code{Smoke}] \n",
       "how much the student smokes. (Factor, levels \\code{\"Heavy\"},\n",
       "\\code{\"Regul\"} (regularly), \\code{\"Occas\"} (occasionally),\n",
       "\\code{\"Never\"}.)\n",
       "\n",
       "\\item[\\code{Height}] \n",
       "height of the student in centimetres.\n",
       "\n",
       "\\item[\\code{M.I}] \n",
       "whether the student expressed height in imperial\n",
       "(feet/inches) or metric (centimetres/metres) units. (Factor, levels\n",
       "\\code{\"Metric\"}, \\code{\"Imperial\"}.)\n",
       "\n",
       "\\item[\\code{Age}] \n",
       "age of the student in years.\n",
       "\n",
       "\n",
       "\\end{description}\n",
       "\n",
       "\\end{Format}\n",
       "%\n",
       "\\begin{References}\\relax\n",
       "Venables, W. N. and Ripley, B. D. (2002)\n",
       "\\emph{Modern Applied Statistics with S-PLUS.} Fourth Edition. Springer.\n",
       "\\end{References}"
      ],
      "text/plain": [
       "survey                  package:MASS                   R Documentation\n",
       "\n",
       "_\bS_\bt_\bu_\bd_\be_\bn_\bt _\bS_\bu_\br_\bv_\be_\by _\bD_\ba_\bt_\ba\n",
       "\n",
       "_\bD_\be_\bs_\bc_\br_\bi_\bp_\bt_\bi_\bo_\bn:\n",
       "\n",
       "     This data frame contains the responses of 237 Statistics I\n",
       "     students at the University of Adelaide to a number of questions.\n",
       "\n",
       "_\bU_\bs_\ba_\bg_\be:\n",
       "\n",
       "     survey\n",
       "     \n",
       "_\bF_\bo_\br_\bm_\ba_\bt:\n",
       "\n",
       "     The components of the data frame are:\n",
       "\n",
       "     ‘Sex’ The sex of the student. (Factor with levels ‘\"Male\"’ and\n",
       "          ‘\"Female\"’.)\n",
       "\n",
       "     ‘Wr.Hnd’ span (distance from tip of thumb to tip of little finger\n",
       "          of spread hand) of writing hand, in centimetres.\n",
       "\n",
       "     ‘NW.Hnd’ span of non-writing hand.\n",
       "\n",
       "     ‘W.Hnd’ writing hand of student. (Factor, with levels ‘\"Left\"’ and\n",
       "          ‘\"Right\"’.)\n",
       "\n",
       "     ‘Fold’ “Fold your arms! Which is on top” (Factor, with levels ‘\"R\n",
       "          on L\"’, ‘\"L on R\"’, ‘\"Neither\"’.)\n",
       "\n",
       "     ‘Pulse’ pulse rate of student (beats per minute).\n",
       "\n",
       "     ‘Clap’ ‘Clap your hands!  Which hand is on top?’ (Factor, with\n",
       "          levels ‘\"Right\"’, ‘\"Left\"’, ‘\"Neither\"’.)\n",
       "\n",
       "     ‘Exer’ how often the student exercises. (Factor, with levels\n",
       "          ‘\"Freq\"’ (frequently), ‘\"Some\"’, ‘\"None\"’.)\n",
       "\n",
       "     ‘Smoke’ how much the student smokes. (Factor, levels ‘\"Heavy\"’,\n",
       "          ‘\"Regul\"’ (regularly), ‘\"Occas\"’ (occasionally), ‘\"Never\"’.)\n",
       "\n",
       "     ‘Height’ height of the student in centimetres.\n",
       "\n",
       "     ‘M.I’ whether the student expressed height in imperial\n",
       "          (feet/inches) or metric (centimetres/metres) units. (Factor,\n",
       "          levels ‘\"Metric\"’, ‘\"Imperial\"’.)\n",
       "\n",
       "     ‘Age’ age of the student in years.\n",
       "\n",
       "_\bR_\be_\bf_\be_\br_\be_\bn_\bc_\be_\bs:\n",
       "\n",
       "     Venables, W. N. and Ripley, B. D. (2002) _Modern Applied\n",
       "     Statistics with S-PLUS._ Fourth Edition. Springer.\n"
      ]
     },
     "metadata": {},
     "output_type": "display_data"
    }
   ],
   "source": [
    "library(MASS)\n",
    "head(survey)\n",
    "?survey"
   ]
  },
  {
   "cell_type": "code",
   "execution_count": 2,
   "metadata": {
    "collapsed": false,
    "gather": {
     "logged": 1643218438666
    },
    "jupyter": {
     "outputs_hidden": false,
     "source_hidden": false
    },
    "nteract": {
     "transient": {
      "deleting": false
     }
    }
   },
   "outputs": [
    {
     "data": {
      "text/plain": [
       "     Sex          Wr.Hnd          NW.Hnd        W.Hnd          Fold    \n",
       " Female:118   Min.   :13.00   Min.   :12.50   Left : 18   L on R : 99  \n",
       " Male  :118   1st Qu.:17.50   1st Qu.:17.50   Right:218   Neither: 18  \n",
       " NA's  :  1   Median :18.50   Median :18.50   NA's :  1   R on L :120  \n",
       "              Mean   :18.67   Mean   :18.58                            \n",
       "              3rd Qu.:19.80   3rd Qu.:19.73                            \n",
       "              Max.   :23.20   Max.   :23.50                            \n",
       "              NA's   :1       NA's   :1                                \n",
       "     Pulse             Clap       Exer       Smoke         Height     \n",
       " Min.   : 35.00   Left   : 39   Freq:115   Heavy: 11   Min.   :150.0  \n",
       " 1st Qu.: 66.00   Neither: 50   None: 24   Never:189   1st Qu.:165.0  \n",
       " Median : 72.50   Right  :147   Some: 98   Occas: 19   Median :171.0  \n",
       " Mean   : 74.15   NA's   :  1              Regul: 17   Mean   :172.4  \n",
       " 3rd Qu.: 80.00                            NA's :  1   3rd Qu.:180.0  \n",
       " Max.   :104.00                                        Max.   :200.0  \n",
       " NA's   :45                                            NA's   :28     \n",
       "       M.I           Age       \n",
       " Imperial: 68   Min.   :16.75  \n",
       " Metric  :141   1st Qu.:17.67  \n",
       " NA's    : 28   Median :18.58  \n",
       "                Mean   :20.37  \n",
       "                3rd Qu.:20.17  \n",
       "                Max.   :73.00  \n",
       "                               "
      ]
     },
     "metadata": {},
     "output_type": "display_data"
    }
   ],
   "source": [
    "summary(survey)"
   ]
  },
  {
   "cell_type": "markdown",
   "metadata": {
    "nteract": {
     "transient": {
      "deleting": false
     }
    }
   },
   "source": [
    "# Simple mean calculation:"
   ]
  },
  {
   "cell_type": "code",
   "execution_count": null,
   "metadata": {
    "collapsed": false,
    "gather": {
     "logged": 1643218440856
    },
    "jupyter": {
     "outputs_hidden": false,
     "source_hidden": false
    },
    "nteract": {
     "transient": {
      "deleting": false
     }
    }
   },
   "outputs": [],
   "source": [
    "mean(survey$Height, na.rm=TRUE)  # skip missing values"
   ]
  },
  {
   "cell_type": "markdown",
   "metadata": {
    "nteract": {
     "transient": {
      "deleting": false
     }
    }
   },
   "source": [
    "## Anonther library which does descriptive statistics: Hmisc"
   ]
  },
  {
   "cell_type": "code",
   "execution_count": null,
   "metadata": {
    "collapsed": false,
    "gather": {
     "logged": 1643218444820
    },
    "jupyter": {
     "outputs_hidden": false,
     "source_hidden": false
    },
    "nteract": {
     "transient": {
      "deleting": false
     }
    }
   },
   "outputs": [],
   "source": [
    "library(Hmisc)\n",
    "describe(survey$Height)"
   ]
  },
  {
   "cell_type": "markdown",
   "metadata": {},
   "source": [
    "## We can visuall see correlation by plotting the data"
   ]
  },
  {
   "cell_type": "code",
   "execution_count": null,
   "metadata": {},
   "outputs": [],
   "source": [
    "# Creating the plot\n",
    "plot(survey$Age, survey$Height, pch = 19, col = \"lightblue\")\n",
    "\n",
    "# Regression line\n",
    "abline(lm(survey$Height ~ survey$Age, col = \"red\", lwd = 3))"
   ]
  },
  {
   "cell_type": "markdown",
   "metadata": {
    "nteract": {
     "transient": {
      "deleting": false
     }
    }
   },
   "source": [
    "# There are mainly two types of correlation: \n",
    "## Parametric Correlation -- Pearson correlation\n",
    "It measures a linear dependence between two variables (x and y) is known as a parametric correlation test because it depends on the distribution of the data.\n",
    "\n",
    "## Non-Parametric Correlation – Kendall(tau) and Spearman(rho)\n",
    "They are rank-based correlation coefficients, are known as non-parametric correlation."
   ]
  },
  {
   "cell_type": "code",
   "execution_count": null,
   "metadata": {
    "collapsed": false,
    "gather": {
     "logged": 1643218467865
    },
    "jupyter": {
     "outputs_hidden": false,
     "source_hidden": false
    },
    "nteract": {
     "transient": {
      "deleting": false
     }
    }
   },
   "outputs": [],
   "source": [
    "survey = survey[complete.cases(survey), ]\n",
    "head(survey)"
   ]
  },
  {
   "cell_type": "code",
   "execution_count": null,
   "metadata": {
    "collapsed": false,
    "gather": {
     "logged": 1643218673659
    },
    "jupyter": {
     "outputs_hidden": false,
     "source_hidden": false
    },
    "nteract": {
     "transient": {
      "deleting": false
     }
    }
   },
   "outputs": [],
   "source": [
    "coeff = cor(age$height, age$NW.hand, method = \"pearson\")\n",
    "cat(\"Pearson correlation coefficient is:\", coeff)"
   ]
  },
  {
   "cell_type": "code",
   "execution_count": null,
   "metadata": {
    "collapsed": false,
    "gather": {
     "logged": 1643218543844
    },
    "jupyter": {
     "outputs_hidden": false,
     "source_hidden": false
    },
    "nteract": {
     "transient": {
      "deleting": false
     }
    }
   },
   "outputs": [],
   "source": [
    "result = cor.test(survey$Pulse, survey$Age, method = \"pearson\")\n",
    " \n",
    "print(result)"
   ]
  },
  {
   "cell_type": "markdown",
   "metadata": {
    "nteract": {
     "transient": {
      "deleting": false
     }
    }
   },
   "source": [
    "## Kendall Rank Coeff"
   ]
  },
  {
   "cell_type": "markdown",
   "metadata": {
    "nteract": {
     "transient": {
      "deleting": false
     }
    }
   },
   "source": [
    "### Prepare the data"
   ]
  },
  {
   "cell_type": "code",
   "execution_count": 10,
   "metadata": {
    "collapsed": false,
    "gather": {
     "logged": 1643219383223
    },
    "jupyter": {
     "outputs_hidden": false,
     "source_hidden": false
    },
    "nteract": {
     "transient": {
      "deleting": false
     }
    }
   },
   "outputs": [
    {
     "data": {
      "text/html": [
       "<style>\n",
       ".list-inline {list-style: none; margin:0; padding: 0}\n",
       ".list-inline>li {display: inline-block}\n",
       ".list-inline>li:not(:last-child)::after {content: \"\\00b7\"; padding: 0 .5ex}\n",
       "</style>\n",
       "<ol class=list-inline><li>1</li><li>3</li><li>2</li><li>1</li><li>1</li><li>1</li></ol>\n"
      ],
      "text/latex": [
       "\\begin{enumerate*}\n",
       "\\item 1\n",
       "\\item 3\n",
       "\\item 2\n",
       "\\item 1\n",
       "\\item 1\n",
       "\\item 1\n",
       "\\end{enumerate*}\n"
      ],
      "text/markdown": [
       "1. 1\n",
       "2. 3\n",
       "3. 2\n",
       "4. 1\n",
       "5. 1\n",
       "6. 1\n",
       "\n",
       "\n"
      ],
      "text/plain": [
       "[1] 1 3 2 1 1 1"
      ]
     },
     "metadata": {},
     "output_type": "display_data"
    },
    {
     "data": {
      "text/html": [
       "<style>\n",
       ".list-inline {list-style: none; margin:0; padding: 0}\n",
       ".list-inline>li {display: inline-block}\n",
       ".list-inline>li:not(:last-child)::after {content: \"\\00b7\"; padding: 0 .5ex}\n",
       "</style>\n",
       "<ol class=list-inline><li>2</li><li>1</li><li>1</li><li>1</li><li>2</li><li>2</li></ol>\n"
      ],
      "text/latex": [
       "\\begin{enumerate*}\n",
       "\\item 2\n",
       "\\item 1\n",
       "\\item 1\n",
       "\\item 1\n",
       "\\item 2\n",
       "\\item 2\n",
       "\\end{enumerate*}\n"
      ],
      "text/markdown": [
       "1. 2\n",
       "2. 1\n",
       "3. 1\n",
       "4. 1\n",
       "5. 2\n",
       "6. 2\n",
       "\n",
       "\n"
      ],
      "text/plain": [
       "[1] 2 1 1 1 2 2"
      ]
     },
     "metadata": {},
     "output_type": "display_data"
    }
   ],
   "source": [
    "smoke = as.numeric(factor(survey$Smoke, levels=c(\"Never\",\"Occas\",\"Regul\",\"Heavy\")))\n",
    "exercise = as.numeric(factor(survey$Exer, levels=c(\"None\",\"Some\",\"Freq\")))\n",
    "head(smoke)\n",
    "head(exercise)"
   ]
  },
  {
   "cell_type": "markdown",
   "metadata": {
    "nteract": {
     "transient": {
      "deleting": false
     }
    }
   },
   "source": [
    "Compute the Kendall coefficient"
   ]
  },
  {
   "cell_type": "code",
   "execution_count": 11,
   "metadata": {
    "collapsed": false,
    "gather": {
     "logged": 1643219396279
    },
    "jupyter": {
     "outputs_hidden": false,
     "source_hidden": false
    },
    "nteract": {
     "transient": {
      "deleting": false
     }
    }
   },
   "outputs": [
    {
     "data": {
      "text/html": [
       "<table class=\"dataframe\">\n",
       "<caption>A matrix: 2 × 2 of type dbl</caption>\n",
       "<thead>\n",
       "\t<tr><th></th><th scope=col>exercise</th><th scope=col>smoke</th></tr>\n",
       "</thead>\n",
       "<tbody>\n",
       "\t<tr><th scope=row>exercise</th><td>1.00000000</td><td>0.08354651</td></tr>\n",
       "\t<tr><th scope=row>smoke</th><td>0.08354651</td><td>1.00000000</td></tr>\n",
       "</tbody>\n",
       "</table>\n"
      ],
      "text/latex": [
       "A matrix: 2 × 2 of type dbl\n",
       "\\begin{tabular}{r|ll}\n",
       "  & exercise & smoke\\\\\n",
       "\\hline\n",
       "\texercise & 1.00000000 & 0.08354651\\\\\n",
       "\tsmoke & 0.08354651 & 1.00000000\\\\\n",
       "\\end{tabular}\n"
      ],
      "text/markdown": [
       "\n",
       "A matrix: 2 × 2 of type dbl\n",
       "\n",
       "| <!--/--> | exercise | smoke |\n",
       "|---|---|---|\n",
       "| exercise | 1.00000000 | 0.08354651 |\n",
       "| smoke | 0.08354651 | 1.00000000 |\n",
       "\n"
      ],
      "text/plain": [
       "         exercise   smoke     \n",
       "exercise 1.00000000 0.08354651\n",
       "smoke    0.08354651 1.00000000"
      ]
     },
     "metadata": {},
     "output_type": "display_data"
    }
   ],
   "source": [
    "model = cbind(exercise, smoke)\n",
    "coeff = cor(model, method=\"kendall\", use=\"pairwise\")\n",
    "coeff"
   ]
  },
  {
   "cell_type": "markdown",
   "metadata": {
    "nteract": {
     "transient": {
      "deleting": false
     }
    }
   },
   "source": [
    "Compute the p-value"
   ]
  },
  {
   "cell_type": "code",
   "execution_count": null,
   "metadata": {
    "collapsed": false,
    "gather": {
     "logged": 1643219403732
    },
    "jupyter": {
     "outputs_hidden": false,
     "source_hidden": false
    },
    "nteract": {
     "transient": {
      "deleting": false
     }
    }
   },
   "outputs": [],
   "source": [
    "result = cor.test(exercise, smoke, method = \"kendall\", use=\"pairwise\")\n",
    " \n",
    "print(result)"
   ]
  },
  {
   "cell_type": "code",
   "execution_count": 2,
   "metadata": {},
   "outputs": [
    {
     "data": {
      "text/html": [
       "<table class=\"dataframe\">\n",
       "<caption>A data.frame: 6 × 6</caption>\n",
       "<thead>\n",
       "\t<tr><th></th><th scope=col>Name</th><th scope=col>Height</th><th scope=col>forearm</th><th scope=col>headcirc</th><th scope=col>forarmestimate</th><th scope=col>headEstimate</th></tr>\n",
       "\t<tr><th></th><th scope=col>&lt;chr&gt;</th><th scope=col>&lt;dbl&gt;</th><th scope=col>&lt;dbl&gt;</th><th scope=col>&lt;dbl&gt;</th><th scope=col>&lt;dbl&gt;</th><th scope=col>&lt;dbl&gt;</th></tr>\n",
       "</thead>\n",
       "<tbody>\n",
       "\t<tr><th scope=row>1</th><td>Zihan Li                   </td><td>176</td><td>25.00</td><td>58</td><td>162.5000</td><td>183.86</td></tr>\n",
       "\t<tr><th scope=row>2</th><td>Wenhui Xie                 </td><td>167</td><td>22.00</td><td>55</td><td>152.0600</td><td>174.35</td></tr>\n",
       "\t<tr><th scope=row>3</th><td>Feng Chen                  </td><td>182</td><td>26.00</td><td>61</td><td>165.9800</td><td>193.37</td></tr>\n",
       "\t<tr><th scope=row>4</th><td>Luna Li                    </td><td>174</td><td>27.00</td><td>58</td><td>169.4600</td><td>183.86</td></tr>\n",
       "\t<tr><th scope=row>5</th><td>Zoljargal Lkhagvajav (Zoey)</td><td>172</td><td>27.00</td><td>56</td><td>169.4600</td><td>177.52</td></tr>\n",
       "\t<tr><th scope=row>6</th><td>Ray Chung                  </td><td>178</td><td>27.94</td><td>61</td><td>172.7312</td><td>193.37</td></tr>\n",
       "</tbody>\n",
       "</table>\n"
      ],
      "text/latex": [
       "A data.frame: 6 × 6\n",
       "\\begin{tabular}{r|llllll}\n",
       "  & Name & Height & forearm & headcirc & forarmestimate & headEstimate\\\\\n",
       "  & <chr> & <dbl> & <dbl> & <dbl> & <dbl> & <dbl>\\\\\n",
       "\\hline\n",
       "\t1 & Zihan Li                    & 176 & 25.00 & 58 & 162.5000 & 183.86\\\\\n",
       "\t2 & Wenhui Xie                  & 167 & 22.00 & 55 & 152.0600 & 174.35\\\\\n",
       "\t3 & Feng Chen                   & 182 & 26.00 & 61 & 165.9800 & 193.37\\\\\n",
       "\t4 & Luna Li                     & 174 & 27.00 & 58 & 169.4600 & 183.86\\\\\n",
       "\t5 & Zoljargal Lkhagvajav (Zoey) & 172 & 27.00 & 56 & 169.4600 & 177.52\\\\\n",
       "\t6 & Ray Chung                   & 178 & 27.94 & 61 & 172.7312 & 193.37\\\\\n",
       "\\end{tabular}\n"
      ],
      "text/markdown": [
       "\n",
       "A data.frame: 6 × 6\n",
       "\n",
       "| <!--/--> | Name &lt;chr&gt; | Height &lt;dbl&gt; | forearm &lt;dbl&gt; | headcirc &lt;dbl&gt; | forarmestimate &lt;dbl&gt; | headEstimate &lt;dbl&gt; |\n",
       "|---|---|---|---|---|---|---|\n",
       "| 1 | Zihan Li                    | 176 | 25.00 | 58 | 162.5000 | 183.86 |\n",
       "| 2 | Wenhui Xie                  | 167 | 22.00 | 55 | 152.0600 | 174.35 |\n",
       "| 3 | Feng Chen                   | 182 | 26.00 | 61 | 165.9800 | 193.37 |\n",
       "| 4 | Luna Li                     | 174 | 27.00 | 58 | 169.4600 | 183.86 |\n",
       "| 5 | Zoljargal Lkhagvajav (Zoey) | 172 | 27.00 | 56 | 169.4600 | 177.52 |\n",
       "| 6 | Ray Chung                   | 178 | 27.94 | 61 | 172.7312 | 193.37 |\n",
       "\n"
      ],
      "text/plain": [
       "  Name                        Height forearm headcirc forarmestimate\n",
       "1 Zihan Li                    176    25.00   58       162.5000      \n",
       "2 Wenhui Xie                  167    22.00   55       152.0600      \n",
       "3 Feng Chen                   182    26.00   61       165.9800      \n",
       "4 Luna Li                     174    27.00   58       169.4600      \n",
       "5 Zoljargal Lkhagvajav (Zoey) 172    27.00   56       169.4600      \n",
       "6 Ray Chung                   178    27.94   61       172.7312      \n",
       "  headEstimate\n",
       "1 183.86      \n",
       "2 174.35      \n",
       "3 193.37      \n",
       "4 183.86      \n",
       "5 177.52      \n",
       "6 193.37      "
      ]
     },
     "metadata": {},
     "output_type": "display_data"
    }
   ],
   "source": [
    "heights = read.csv(\"heights.csv\")\n",
    "head(heights)"
   ]
  },
  {
   "cell_type": "code",
   "execution_count": 7,
   "metadata": {},
   "outputs": [
    {
     "name": "stdout",
     "output_type": "stream",
     "text": [
      "Pearson correlation coefficient is: 0.6562095"
     ]
    }
   ],
   "source": [
    "coeff = cor(heights$forarmestimate, heights$Height, method = \"pearson\")\n",
    "cat(\"Pearson correlation coefficient is:\", coeff)"
   ]
  },
  {
   "cell_type": "code",
   "execution_count": 3,
   "metadata": {},
   "outputs": [
    {
     "data": {
      "text/html": [
       "<style>\n",
       ".list-inline {list-style: none; margin:0; padding: 0}\n",
       ".list-inline>li {display: inline-block}\n",
       ".list-inline>li:not(:last-child)::after {content: \"\\00b7\"; padding: 0 .5ex}\n",
       "</style>\n",
       "<ol class=list-inline><li>176</li><li>167</li><li>182</li><li>174</li><li>172</li><li>178</li></ol>\n"
      ],
      "text/latex": [
       "\\begin{enumerate*}\n",
       "\\item 176\n",
       "\\item 167\n",
       "\\item 182\n",
       "\\item 174\n",
       "\\item 172\n",
       "\\item 178\n",
       "\\end{enumerate*}\n"
      ],
      "text/markdown": [
       "1. 176\n",
       "2. 167\n",
       "3. 182\n",
       "4. 174\n",
       "5. 172\n",
       "6. 178\n",
       "\n",
       "\n"
      ],
      "text/plain": [
       "[1] 176 167 182 174 172 178"
      ]
     },
     "metadata": {},
     "output_type": "display_data"
    }
   ],
   "source": [
    "realHeight = heights[,c('Height')]\n",
    "head(realHeight)"
   ]
  },
  {
   "cell_type": "code",
   "execution_count": 4,
   "metadata": {},
   "outputs": [
    {
     "data": {
      "text/html": [
       "<table class=\"dataframe\">\n",
       "<caption>A data.frame: 6 × 1</caption>\n",
       "<thead>\n",
       "\t<tr><th></th><th scope=col>sort.heights...c..Height....</th></tr>\n",
       "\t<tr><th></th><th scope=col>&lt;dbl&gt;</th></tr>\n",
       "</thead>\n",
       "<tbody>\n",
       "\t<tr><th scope=row>1</th><td>157.00</td></tr>\n",
       "\t<tr><th scope=row>2</th><td>162.56</td></tr>\n",
       "\t<tr><th scope=row>3</th><td>167.00</td></tr>\n",
       "\t<tr><th scope=row>4</th><td>167.00</td></tr>\n",
       "\t<tr><th scope=row>5</th><td>168.00</td></tr>\n",
       "\t<tr><th scope=row>6</th><td>171.00</td></tr>\n",
       "</tbody>\n",
       "</table>\n"
      ],
      "text/latex": [
       "A data.frame: 6 × 1\n",
       "\\begin{tabular}{r|l}\n",
       "  & sort.heights...c..Height....\\\\\n",
       "  & <dbl>\\\\\n",
       "\\hline\n",
       "\t1 & 157.00\\\\\n",
       "\t2 & 162.56\\\\\n",
       "\t3 & 167.00\\\\\n",
       "\t4 & 167.00\\\\\n",
       "\t5 & 168.00\\\\\n",
       "\t6 & 171.00\\\\\n",
       "\\end{tabular}\n"
      ],
      "text/markdown": [
       "\n",
       "A data.frame: 6 × 1\n",
       "\n",
       "| <!--/--> | sort.heights...c..Height.... &lt;dbl&gt; |\n",
       "|---|---|\n",
       "| 1 | 157.00 |\n",
       "| 2 | 162.56 |\n",
       "| 3 | 167.00 |\n",
       "| 4 | 167.00 |\n",
       "| 5 | 168.00 |\n",
       "| 6 | 171.00 |\n",
       "\n"
      ],
      "text/plain": [
       "  sort.heights...c..Height....\n",
       "1 157.00                      \n",
       "2 162.56                      \n",
       "3 167.00                      \n",
       "4 167.00                      \n",
       "5 168.00                      \n",
       "6 171.00                      "
      ]
     },
     "metadata": {},
     "output_type": "display_data"
    }
   ],
   "source": [
    "realHeight = data.frame(sort(heights[,c('Height')]))\n",
    "head(realHeight)"
   ]
  },
  {
   "cell_type": "code",
   "execution_count": 6,
   "metadata": {},
   "outputs": [
    {
     "data": {
      "text/html": [
       "<table class=\"dataframe\">\n",
       "<caption>A data.frame: 6 × 1</caption>\n",
       "<thead>\n",
       "\t<tr><th></th><th scope=col>sort.heights...c..forarmestimate....</th></tr>\n",
       "\t<tr><th></th><th scope=col>&lt;dbl&gt;</th></tr>\n",
       "</thead>\n",
       "<tbody>\n",
       "\t<tr><th scope=row>1</th><td>152.0600</td></tr>\n",
       "\t<tr><th scope=row>2</th><td>155.0528</td></tr>\n",
       "\t<tr><th scope=row>3</th><td>162.5000</td></tr>\n",
       "\t<tr><th scope=row>4</th><td>162.5000</td></tr>\n",
       "\t<tr><th scope=row>5</th><td>162.5000</td></tr>\n",
       "\t<tr><th scope=row>6</th><td>163.8920</td></tr>\n",
       "</tbody>\n",
       "</table>\n"
      ],
      "text/latex": [
       "A data.frame: 6 × 1\n",
       "\\begin{tabular}{r|l}\n",
       "  & sort.heights...c..forarmestimate....\\\\\n",
       "  & <dbl>\\\\\n",
       "\\hline\n",
       "\t1 & 152.0600\\\\\n",
       "\t2 & 155.0528\\\\\n",
       "\t3 & 162.5000\\\\\n",
       "\t4 & 162.5000\\\\\n",
       "\t5 & 162.5000\\\\\n",
       "\t6 & 163.8920\\\\\n",
       "\\end{tabular}\n"
      ],
      "text/markdown": [
       "\n",
       "A data.frame: 6 × 1\n",
       "\n",
       "| <!--/--> | sort.heights...c..forarmestimate.... &lt;dbl&gt; |\n",
       "|---|---|\n",
       "| 1 | 152.0600 |\n",
       "| 2 | 155.0528 |\n",
       "| 3 | 162.5000 |\n",
       "| 4 | 162.5000 |\n",
       "| 5 | 162.5000 |\n",
       "| 6 | 163.8920 |\n",
       "\n"
      ],
      "text/plain": [
       "  sort.heights...c..forarmestimate....\n",
       "1 152.0600                            \n",
       "2 155.0528                            \n",
       "3 162.5000                            \n",
       "4 162.5000                            \n",
       "5 162.5000                            \n",
       "6 163.8920                            "
      ]
     },
     "metadata": {},
     "output_type": "display_data"
    }
   ],
   "source": [
    "forearmestimate = data.frame(sort(heights[,c('forarmestimate')]))\n",
    "head(forearmestimate)"
   ]
  },
  {
   "cell_type": "code",
   "execution_count": 7,
   "metadata": {},
   "outputs": [
    {
     "data": {
      "text/html": [
       "<table class=\"dataframe\">\n",
       "<caption>A matrix: 2 × 2 of type dbl</caption>\n",
       "<thead>\n",
       "\t<tr><th></th><th scope=col>sort.heights...c..Height....</th><th scope=col>sort.heights...c..forarmestimate....</th></tr>\n",
       "</thead>\n",
       "<tbody>\n",
       "\t<tr><th scope=row>sort.heights...c..Height....</th><td>1.00000</td><td>0.96576</td></tr>\n",
       "\t<tr><th scope=row>sort.heights...c..forarmestimate....</th><td>0.96576</td><td>1.00000</td></tr>\n",
       "</tbody>\n",
       "</table>\n"
      ],
      "text/latex": [
       "A matrix: 2 × 2 of type dbl\n",
       "\\begin{tabular}{r|ll}\n",
       "  & sort.heights...c..Height.... & sort.heights...c..forarmestimate....\\\\\n",
       "\\hline\n",
       "\tsort.heights...c..Height.... & 1.00000 & 0.96576\\\\\n",
       "\tsort.heights...c..forarmestimate.... & 0.96576 & 1.00000\\\\\n",
       "\\end{tabular}\n"
      ],
      "text/markdown": [
       "\n",
       "A matrix: 2 × 2 of type dbl\n",
       "\n",
       "| <!--/--> | sort.heights...c..Height.... | sort.heights...c..forarmestimate.... |\n",
       "|---|---|---|\n",
       "| sort.heights...c..Height.... | 1.00000 | 0.96576 |\n",
       "| sort.heights...c..forarmestimate.... | 0.96576 | 1.00000 |\n",
       "\n"
      ],
      "text/plain": [
       "                                     sort.heights...c..Height....\n",
       "sort.heights...c..Height....         1.00000                     \n",
       "sort.heights...c..forarmestimate.... 0.96576                     \n",
       "                                     sort.heights...c..forarmestimate....\n",
       "sort.heights...c..Height....         0.96576                             \n",
       "sort.heights...c..forarmestimate.... 1.00000                             "
      ]
     },
     "metadata": {},
     "output_type": "display_data"
    }
   ],
   "source": [
    "model = cbind(realHeight, forearmestimate)\n",
    "coeff = cor(model, method=\"kendall\", use=\"pairwise\")\n",
    "coeff"
   ]
  },
  {
   "cell_type": "code",
   "execution_count": 5,
   "metadata": {},
   "outputs": [
    {
     "data": {
      "text/html": [
       "<table class=\"dataframe\">\n",
       "<caption>A matrix: 2 × 2 of type dbl</caption>\n",
       "<thead>\n",
       "\t<tr><th></th><th scope=col>sort.heights...c..Height....</th><th scope=col>sort.heights...c..headEstimate....</th></tr>\n",
       "</thead>\n",
       "<tbody>\n",
       "\t<tr><th scope=row>sort.heights...c..Height....</th><td>1.0000000</td><td>0.9607689</td></tr>\n",
       "\t<tr><th scope=row>sort.heights...c..headEstimate....</th><td>0.9607689</td><td>1.0000000</td></tr>\n",
       "</tbody>\n",
       "</table>\n"
      ],
      "text/latex": [
       "A matrix: 2 × 2 of type dbl\n",
       "\\begin{tabular}{r|ll}\n",
       "  & sort.heights...c..Height.... & sort.heights...c..headEstimate....\\\\\n",
       "\\hline\n",
       "\tsort.heights...c..Height.... & 1.0000000 & 0.9607689\\\\\n",
       "\tsort.heights...c..headEstimate.... & 0.9607689 & 1.0000000\\\\\n",
       "\\end{tabular}\n"
      ],
      "text/markdown": [
       "\n",
       "A matrix: 2 × 2 of type dbl\n",
       "\n",
       "| <!--/--> | sort.heights...c..Height.... | sort.heights...c..headEstimate.... |\n",
       "|---|---|---|\n",
       "| sort.heights...c..Height.... | 1.0000000 | 0.9607689 |\n",
       "| sort.heights...c..headEstimate.... | 0.9607689 | 1.0000000 |\n",
       "\n"
      ],
      "text/plain": [
       "                                   sort.heights...c..Height....\n",
       "sort.heights...c..Height....       1.0000000                   \n",
       "sort.heights...c..headEstimate.... 0.9607689                   \n",
       "                                   sort.heights...c..headEstimate....\n",
       "sort.heights...c..Height....       0.9607689                         \n",
       "sort.heights...c..headEstimate.... 1.0000000                         "
      ]
     },
     "metadata": {},
     "output_type": "display_data"
    }
   ],
   "source": [
    "headestimate = data.frame(sort(heights[,c('headEstimate')]))\n",
    "model = cbind(realHeight, headestimate)\n",
    "coeff = cor(model, method=\"kendall\", use=\"pairwise\")\n",
    "coeff"
   ]
  },
  {
   "cell_type": "code",
   "execution_count": null,
   "metadata": {},
   "outputs": [],
   "source": []
  }
 ],
 "metadata": {
  "kernel_info": {
   "name": "ir"
  },
  "kernelspec": {
   "display_name": "R",
   "language": "R",
   "name": "ir"
  },
  "language_info": {
   "codemirror_mode": "r",
   "file_extension": ".r",
   "mimetype": "text/x-r-source",
   "name": "R",
   "pygments_lexer": "r",
   "version": "4.2.2"
  },
  "microsoft": {
   "host": {
    "AzureML": {
     "notebookHasBeenCompleted": true
    }
   }
  },
  "nteract": {
   "version": "nteract-front-end@1.0.0"
  }
 },
 "nbformat": 4,
 "nbformat_minor": 4
}
