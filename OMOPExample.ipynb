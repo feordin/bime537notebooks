{
 "cells": [
  {
   "cell_type": "markdown",
   "id": "cc5b4a9d-241b-474e-b36e-b3320f2cb825",
   "metadata": {},
   "source": [
    "# OMOP Data Connection"
   ]
  },
  {
   "cell_type": "code",
   "execution_count": 1,
   "id": "48294ada-253d-4f6b-ab3c-e249c33560c2",
   "metadata": {
    "vscode": {
     "languageId": "r"
    }
   },
   "outputs": [],
   "source": [
    "library(RODBC)\n",
    "dbconnection <- odbcDriverConnect(\"Driver=ODBC Driver 18 for SQL Server;Server=; Database=OMOP;Uid=; Pwd=\")\n",
    "patients <- sqlQuery(dbconnection,paste(\"select * from PERSON;\"))\n",
    "observations <- sqlQuery(dbconnection,paste(\"select * from OBSERVATION;\"))\n",
    "odbcClose(dbconnection)"
   ]
  },
  {
   "cell_type": "code",
   "execution_count": null,
   "id": "6f888ff4-fba2-4c13-83f4-eefca3c58971",
   "metadata": {
    "vscode": {
     "languageId": "r"
    }
   },
   "outputs": [],
   "source": [
    "head(patients)\n",
    "head(observations)"
   ]
  },
  {
   "cell_type": "code",
   "execution_count": null,
   "id": "52c3e38f-f95f-40a9-aa00-08347ffaa265",
   "metadata": {
    "vscode": {
     "languageId": "r"
    }
   },
   "outputs": [],
   "source": []
  }
 ],
 "metadata": {
  "kernelspec": {
   "display_name": "R",
   "language": "R",
   "name": "ir"
  },
  "language_info": {
   "codemirror_mode": "r",
   "file_extension": ".r",
   "mimetype": "text/x-r-source",
   "name": "R",
   "pygments_lexer": "r",
   "version": "4.2.2"
  }
 },
 "nbformat": 4,
 "nbformat_minor": 5
}
