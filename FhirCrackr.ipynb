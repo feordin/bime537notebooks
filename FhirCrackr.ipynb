{
 "cells": [
  {
   "cell_type": "markdown",
   "metadata": {},
   "source": [
    "# Test a connection to a FHIR server"
   ]
  },
  {
   "cell_type": "code",
   "execution_count": 2,
   "metadata": {
    "vscode": {
     "languageId": "r"
    }
   },
   "outputs": [
    {
     "name": "stderr",
     "output_type": "stream",
     "text": [
      "Starting download of 1 bundles of resource type Patient from FHIR base URL https://jaerwininc.azurewebsites.net/.\n",
      "\n",
      "\n",
      "\n",
      "Download completed. Number of downloaded bundles was limited to 1 bundles, this is less than the total number of bundles available.\n",
      "\n"
     ]
    },
    {
     "data": {
      "text/plain": [
       "An object of class \"fhir_bundle_list\"\n",
       "[[1]]\n",
       "A fhir_bundle_xml object\n",
       "No. of entries : 10\n",
       "Self Link: http://jaerwininc.azurewebsites.net/Patient\n",
       "Next Link: http://jaerwininc.azurewebsites.net/Patient?ct=er97f5lRTbShgbGOqaGhgYGJpamJpaGhuYWJgamRaSwAAAD%2F%2Fw%3D%3D\n",
       " \n",
       "{xml_node}\n",
       "<Bundle>\n",
       " [1] <id value=\"fc285ebf-4583-41ae-bda2-3fea3dedb5bc\"/>\n",
       " [2] <meta>\\n  <lastUpdated value=\"2025-02-24T21:33:45.7821916+00:00\"/>\\n</meta>\n",
       " [3] <type value=\"searchset\"/>\n",
       " [4] <link>\\n  <relation value=\"next\"/>\\n  <url value=\"http://jaerwininc.azur ...\n",
       " [5] <link>\\n  <relation value=\"self\"/>\\n  <url value=\"http://jaerwininc.azur ...\n",
       " [6] <entry>\\n  <fullUrl value=\"http://jaerwininc.azurewebsites.net/Patient/s ...\n",
       " [7] <entry>\\n  <fullUrl value=\"http://jaerwininc.azurewebsites.net/Patient/s ...\n",
       " [8] <entry>\\n  <fullUrl value=\"http://jaerwininc.azurewebsites.net/Patient/s ...\n",
       " [9] <entry>\\n  <fullUrl value=\"http://jaerwininc.azurewebsites.net/Patient/s ...\n",
       "[10] <entry>\\n  <fullUrl value=\"http://jaerwininc.azurewebsites.net/Patient/7 ...\n",
       "[11] <entry>\\n  <fullUrl value=\"http://jaerwininc.azurewebsites.net/Patient/7 ...\n",
       "[12] <entry>\\n  <fullUrl value=\"http://jaerwininc.azurewebsites.net/Patient/5 ...\n",
       "[13] <entry>\\n  <fullUrl value=\"http://jaerwininc.azurewebsites.net/Patient/a ...\n",
       "[14] <entry>\\n  <fullUrl value=\"http://jaerwininc.azurewebsites.net/Patient/5 ...\n",
       "[15] <entry>\\n  <fullUrl value=\"http://jaerwininc.azurewebsites.net/Patient/4 ...\n"
      ]
     },
     "metadata": {},
     "output_type": "display_data"
    }
   ],
   "source": [
    "library(fhircrackr)\n",
    "\n",
    "fhir_server <- \"https://jaerwininc.azurewebsites.net\"\n",
    "request <- fhir_url(url = fhir_server, resource = \"Patient\")\n",
    "patient_bundle <- fhir_search(request = request, max_bundles = 1, verbose = 1)\n",
    "\n",
    "patient_bundle"
   ]
  },
  {
   "cell_type": "markdown",
   "metadata": {},
   "source": [
    "# Concert response to data frame\n",
    "The fhircrackr library uses the fhir_table_description() function to translate the hierarchical XML resource returned by the FHIR server into a tabular format (i.e., a data frame) that works with typical analysis approaches in R.\n",
    "\n",
    "This function creates a definition mapping parts of the XML representation of the resource onto columns in the data frame that will be generated. The XML elements are identified using XPath, a query language for XML."
   ]
  },
  {
   "cell_type": "code",
   "execution_count": 5,
   "metadata": {
    "vscode": {
     "languageId": "r"
    }
   },
   "outputs": [
    {
     "data": {
      "text/html": [
       "<table class=\"dataframe\">\n",
       "<caption>A data.frame: 10 × 6</caption>\n",
       "<thead>\n",
       "\t<tr><th scope=col>id</th><th scope=col>given_name</th><th scope=col>family_name</th><th scope=col>gender</th><th scope=col>birthday</th><th scope=col>birthTime</th></tr>\n",
       "\t<tr><th scope=col>&lt;chr&gt;</th><th scope=col>&lt;chr&gt;</th><th scope=col>&lt;chr&gt;</th><th scope=col>&lt;chr&gt;</th><th scope=col>&lt;chr&gt;</th><th scope=col>&lt;lgl&gt;</th></tr>\n",
       "</thead>\n",
       "<tbody>\n",
       "\t<tr><td>searchpatient1                      </td><td>Sarah      </td><td>Chalmers</td><td>female</td><td>NA        </td><td>NA</td></tr>\n",
       "\t<tr><td>searchpatient2                      </td><td>Jon        </td><td>Chalmers</td><td>male  </td><td>1987-02-20</td><td>NA</td></tr>\n",
       "\t<tr><td>searchpatient3                      </td><td>jon        </td><td>Chalmers</td><td>male  </td><td>1975-01-12</td><td>NA</td></tr>\n",
       "\t<tr><td>searchpatient4                      </td><td>Jonathon   </td><td>Chalmers</td><td>female</td><td>2000-12-23</td><td>NA</td></tr>\n",
       "\t<tr><td>740cc369-7baa-4153-a866-c42a573f548f</td><td>Patient2474</td><td>Doe     </td><td>NA    </td><td>NA        </td><td>NA</td></tr>\n",
       "\t<tr><td>70924984-6684-4b27-9124-c112adbf5663</td><td>Patient2256</td><td>Doe     </td><td>NA    </td><td>NA        </td><td>NA</td></tr>\n",
       "\t<tr><td>5326c65b-6ca2-491a-aac9-553e7893386d</td><td>Patient2435</td><td>Doe     </td><td>NA    </td><td>NA        </td><td>NA</td></tr>\n",
       "\t<tr><td>a4e63da0-e4c2-4149-8fe6-5ef8186f2bfa</td><td>Patient2266</td><td>Doe     </td><td>NA    </td><td>NA        </td><td>NA</td></tr>\n",
       "\t<tr><td>5d719298-7159-4bf2-bccc-d8c9e877ff06</td><td>Patient2366</td><td>Doe     </td><td>NA    </td><td>NA        </td><td>NA</td></tr>\n",
       "\t<tr><td>4f33935d-f033-4769-a9f1-3787b6a3a2d0</td><td>Patient2441</td><td>Doe     </td><td>NA    </td><td>NA        </td><td>NA</td></tr>\n",
       "</tbody>\n",
       "</table>\n"
      ],
      "text/latex": [
       "A data.frame: 10 × 6\n",
       "\\begin{tabular}{llllll}\n",
       " id & given\\_name & family\\_name & gender & birthday & birthTime\\\\\n",
       " <chr> & <chr> & <chr> & <chr> & <chr> & <lgl>\\\\\n",
       "\\hline\n",
       "\t searchpatient1                       & Sarah       & Chalmers & female & NA         & NA\\\\\n",
       "\t searchpatient2                       & Jon         & Chalmers & male   & 1987-02-20 & NA\\\\\n",
       "\t searchpatient3                       & jon         & Chalmers & male   & 1975-01-12 & NA\\\\\n",
       "\t searchpatient4                       & Jonathon    & Chalmers & female & 2000-12-23 & NA\\\\\n",
       "\t 740cc369-7baa-4153-a866-c42a573f548f & Patient2474 & Doe      & NA     & NA         & NA\\\\\n",
       "\t 70924984-6684-4b27-9124-c112adbf5663 & Patient2256 & Doe      & NA     & NA         & NA\\\\\n",
       "\t 5326c65b-6ca2-491a-aac9-553e7893386d & Patient2435 & Doe      & NA     & NA         & NA\\\\\n",
       "\t a4e63da0-e4c2-4149-8fe6-5ef8186f2bfa & Patient2266 & Doe      & NA     & NA         & NA\\\\\n",
       "\t 5d719298-7159-4bf2-bccc-d8c9e877ff06 & Patient2366 & Doe      & NA     & NA         & NA\\\\\n",
       "\t 4f33935d-f033-4769-a9f1-3787b6a3a2d0 & Patient2441 & Doe      & NA     & NA         & NA\\\\\n",
       "\\end{tabular}\n"
      ],
      "text/markdown": [
       "\n",
       "A data.frame: 10 × 6\n",
       "\n",
       "| id &lt;chr&gt; | given_name &lt;chr&gt; | family_name &lt;chr&gt; | gender &lt;chr&gt; | birthday &lt;chr&gt; | birthTime &lt;lgl&gt; |\n",
       "|---|---|---|---|---|---|\n",
       "| searchpatient1                       | Sarah       | Chalmers | female | NA         | NA |\n",
       "| searchpatient2                       | Jon         | Chalmers | male   | 1987-02-20 | NA |\n",
       "| searchpatient3                       | jon         | Chalmers | male   | 1975-01-12 | NA |\n",
       "| searchpatient4                       | Jonathon    | Chalmers | female | 2000-12-23 | NA |\n",
       "| 740cc369-7baa-4153-a866-c42a573f548f | Patient2474 | Doe      | NA     | NA         | NA |\n",
       "| 70924984-6684-4b27-9124-c112adbf5663 | Patient2256 | Doe      | NA     | NA         | NA |\n",
       "| 5326c65b-6ca2-491a-aac9-553e7893386d | Patient2435 | Doe      | NA     | NA         | NA |\n",
       "| a4e63da0-e4c2-4149-8fe6-5ef8186f2bfa | Patient2266 | Doe      | NA     | NA         | NA |\n",
       "| 5d719298-7159-4bf2-bccc-d8c9e877ff06 | Patient2366 | Doe      | NA     | NA         | NA |\n",
       "| 4f33935d-f033-4769-a9f1-3787b6a3a2d0 | Patient2441 | Doe      | NA     | NA         | NA |\n",
       "\n"
      ],
      "text/plain": [
       "   id                                   given_name  family_name gender\n",
       "1  searchpatient1                       Sarah       Chalmers    female\n",
       "2  searchpatient2                       Jon         Chalmers    male  \n",
       "3  searchpatient3                       jon         Chalmers    male  \n",
       "4  searchpatient4                       Jonathon    Chalmers    female\n",
       "5  740cc369-7baa-4153-a866-c42a573f548f Patient2474 Doe         NA    \n",
       "6  70924984-6684-4b27-9124-c112adbf5663 Patient2256 Doe         NA    \n",
       "7  5326c65b-6ca2-491a-aac9-553e7893386d Patient2435 Doe         NA    \n",
       "8  a4e63da0-e4c2-4149-8fe6-5ef8186f2bfa Patient2266 Doe         NA    \n",
       "9  5d719298-7159-4bf2-bccc-d8c9e877ff06 Patient2366 Doe         NA    \n",
       "10 4f33935d-f033-4769-a9f1-3787b6a3a2d0 Patient2441 Doe         NA    \n",
       "   birthday   birthTime\n",
       "1  NA         NA       \n",
       "2  1987-02-20 NA       \n",
       "3  1975-01-12 NA       \n",
       "4  2000-12-23 NA       \n",
       "5  NA         NA       \n",
       "6  NA         NA       \n",
       "7  NA         NA       \n",
       "8  NA         NA       \n",
       "9  NA         NA       \n",
       "10 NA         NA       "
      ]
     },
     "metadata": {},
     "output_type": "display_data"
    }
   ],
   "source": [
    "table_desc_patient <- fhir_table_description(\n",
    "    resource = \"Patient\",\n",
    "\n",
    "    cols = c(\n",
    "            id           = \"id\",\n",
    "            given_name    = \"name/given\",\n",
    "            family_name   = \"name/family\",\n",
    "            gender        = \"gender\",\n",
    "            birthday      = \"birthDate\",\n",
    "            birthTime     = \"extension[@url=\\\"http://hl7.org/fhir/StructureDefinition/patient-birthTime\\\"]/valueDateTime\"\n",
    "        )\n",
    "\n",
    ")\n",
    "\n",
    "df_patient <- fhir_crack(bundles = patient_bundle, design = table_desc_patient, verbose = 0)\n",
    "\n",
    "df_patient"
   ]
  }
 ],
 "metadata": {
  "kernelspec": {
   "display_name": "R",
   "language": "R",
   "name": "ir"
  },
  "language_info": {
   "codemirror_mode": "r",
   "file_extension": ".r",
   "mimetype": "text/x-r-source",
   "name": "R",
   "pygments_lexer": "r",
   "version": "4.4.2"
  }
 },
 "nbformat": 4,
 "nbformat_minor": 2
}
