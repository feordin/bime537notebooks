{
 "cells": [
  {
   "cell_type": "markdown",
   "id": "6b112f9a-276e-45d0-a16b-a0f8d7dd2422",
   "metadata": {},
   "source": [
    "# Power Analysis\n",
    "In R, the following parameters required to calculate the power analysis\n",
    "\n",
    "Sample size\n",
    "Effect size\n",
    "Significance level\n",
    "Power of the test\n",
    "If we have any of the three parameters given above, we can calculate the fourth one.\n",
    "\n",
    "Following table provide the power calculations for different types of analysis.\n",
    "\n",
    "|Function|Power Calculation For|\n",
    "|--------|---------------------|\n",
    "|pwr.2p.test|two proportions equal n|\n",
    "|pwr.2p2n.test|two proportions unequal n|\n",
    "|pwr.anova.test|balanced one way anova|\n",
    "|pwr.chisq.test|chi square test|\n",
    "|pwr.f2.test|general linear model|\n",
    "|pwr.p.test|proportion one sample|\n",
    "|pwr.r.test|correlation|\n",
    "|pwr.t.test|t-tests (one sample, 2 samples, paired)|\n",
    "|pwr.r.test|t-test (two samples with unequal n)|\n",
    "\n",
    "The significance level α defaults to be 0.05.\n",
    "\n",
    "Finding effect size is one of the difficult tasks. Your subject expertise needs to brought to be here. Cohen gives the following guidelines for the social sciences. For more details about effects size you can refer here\n",
    "\n",
    "Effect size\tCohen’s w\n",
    "Small\t0.10\n",
    "Medium\t0.30\n",
    "Large\t0.50\n",
    "Here are some examples carried out in R\n",
    "\n",
    "From: https://www.r-bloggers.com/2021/05/power-analysis-in-statistics-with-r/"
   ]
  },
  {
   "cell_type": "markdown",
   "id": "52db510b-15ca-4d5d-85ea-e15aa4f18c9f",
   "metadata": {},
   "source": [
    "# Power Analysis\n",
    "In R, the following parameters required to calculate the power analysis\n",
    "\n",
    "Sample size\n",
    "Effect size\n",
    "Significance level\n",
    "Power of the test\n",
    "If we have any of the three parameters given above, we can calculate the fourth one.\n",
    "\n",
    "Following table provide the power calculations for different types of analysis.\n",
    "\n",
    "|Function|Power Calculation For|\n",
    "|--------|---------------------|\n",
    "|pwr.2p.test|two proportions equal n|\n",
    "|pwr.2p2n.test|two proportions unequal n|\n",
    "|pwr.anova.test|balanced one way anova|\n",
    "|pwr.chisq.test|chi square test|\n",
    "|pwr.f2.test|general linear model|\n",
    "|pwr.p.test|proportion one sample|\n",
    "|pwr.r.test|correlation|\n",
    "|pwr.t.test|t-tests (one sample, 2 samples, paired)|\n",
    "|pwr.r.test|t-test (two samples with unequal n)|\n",
    "\n",
    "The significance level α defaults to be 0.05.\n",
    "\n",
    "Finding effect size is one of the difficult tasks. Your subject expertise needs to brought to be here. Cohen gives the following guidelines for the social sciences. For more details about effects size you can refer here\n",
    "\n",
    "Effect size\tCohen’s w\n",
    "Small\t0.10\n",
    "Medium\t0.30\n",
    "Large\t0.50\n",
    "Here are some examples carried out in R\n",
    "\n",
    "From: https://www.r-bloggers.com/2021/05/power-analysis-in-statistics-with-r/"
   ]
  },
  {
   "cell_type": "markdown",
   "id": "0a36b8a9-0368-4824-9965-544a8b704dcf",
   "metadata": {},
   "source": [
    "We'll use the CO2 uptake data related to chilled plants.\n",
    "\n",
    "Using the effsize package, we'll calculate effect size using the Cohen method which compares the mean values between the two groups over the standard deviation."
   ]
  },
  {
   "cell_type": "code",
   "execution_count": 1,
   "id": "f6c16fc7-3816-45d7-9202-a8b058cda979",
   "metadata": {},
   "outputs": [
    {
     "data": {
      "text/html": [
       "<table class=\"dataframe\">\n",
       "<caption>A nfnGroupedData: 6 × 5</caption>\n",
       "<thead>\n",
       "\t<tr><th></th><th scope=col>Plant</th><th scope=col>Type</th><th scope=col>Treatment</th><th scope=col>conc</th><th scope=col>uptake</th></tr>\n",
       "\t<tr><th></th><th scope=col>&lt;ord&gt;</th><th scope=col>&lt;fct&gt;</th><th scope=col>&lt;fct&gt;</th><th scope=col>&lt;dbl&gt;</th><th scope=col>&lt;dbl&gt;</th></tr>\n",
       "</thead>\n",
       "<tbody>\n",
       "\t<tr><th scope=row>1</th><td>Qn1</td><td>Quebec</td><td>nonchilled</td><td> 95</td><td>16.0</td></tr>\n",
       "\t<tr><th scope=row>2</th><td>Qn1</td><td>Quebec</td><td>nonchilled</td><td>175</td><td>30.4</td></tr>\n",
       "\t<tr><th scope=row>3</th><td>Qn1</td><td>Quebec</td><td>nonchilled</td><td>250</td><td>34.8</td></tr>\n",
       "\t<tr><th scope=row>4</th><td>Qn1</td><td>Quebec</td><td>nonchilled</td><td>350</td><td>37.2</td></tr>\n",
       "\t<tr><th scope=row>5</th><td>Qn1</td><td>Quebec</td><td>nonchilled</td><td>500</td><td>35.3</td></tr>\n",
       "\t<tr><th scope=row>6</th><td>Qn1</td><td>Quebec</td><td>nonchilled</td><td>675</td><td>39.2</td></tr>\n",
       "</tbody>\n",
       "</table>\n"
      ],
      "text/latex": [
       "A nfnGroupedData: 6 × 5\n",
       "\\begin{tabular}{r|lllll}\n",
       "  & Plant & Type & Treatment & conc & uptake\\\\\n",
       "  & <ord> & <fct> & <fct> & <dbl> & <dbl>\\\\\n",
       "\\hline\n",
       "\t1 & Qn1 & Quebec & nonchilled &  95 & 16.0\\\\\n",
       "\t2 & Qn1 & Quebec & nonchilled & 175 & 30.4\\\\\n",
       "\t3 & Qn1 & Quebec & nonchilled & 250 & 34.8\\\\\n",
       "\t4 & Qn1 & Quebec & nonchilled & 350 & 37.2\\\\\n",
       "\t5 & Qn1 & Quebec & nonchilled & 500 & 35.3\\\\\n",
       "\t6 & Qn1 & Quebec & nonchilled & 675 & 39.2\\\\\n",
       "\\end{tabular}\n"
      ],
      "text/markdown": [
       "\n",
       "A nfnGroupedData: 6 × 5\n",
       "\n",
       "| <!--/--> | Plant &lt;ord&gt; | Type &lt;fct&gt; | Treatment &lt;fct&gt; | conc &lt;dbl&gt; | uptake &lt;dbl&gt; |\n",
       "|---|---|---|---|---|---|\n",
       "| 1 | Qn1 | Quebec | nonchilled |  95 | 16.0 |\n",
       "| 2 | Qn1 | Quebec | nonchilled | 175 | 30.4 |\n",
       "| 3 | Qn1 | Quebec | nonchilled | 250 | 34.8 |\n",
       "| 4 | Qn1 | Quebec | nonchilled | 350 | 37.2 |\n",
       "| 5 | Qn1 | Quebec | nonchilled | 500 | 35.3 |\n",
       "| 6 | Qn1 | Quebec | nonchilled | 675 | 39.2 |\n",
       "\n"
      ],
      "text/plain": [
       "  Plant Type   Treatment  conc uptake\n",
       "1 Qn1   Quebec nonchilled  95  16.0  \n",
       "2 Qn1   Quebec nonchilled 175  30.4  \n",
       "3 Qn1   Quebec nonchilled 250  34.8  \n",
       "4 Qn1   Quebec nonchilled 350  37.2  \n",
       "5 Qn1   Quebec nonchilled 500  35.3  \n",
       "6 Qn1   Quebec nonchilled 675  39.2  "
      ]
     },
     "metadata": {},
     "output_type": "display_data"
    },
    {
     "data": {
      "text/html": [
       "42"
      ],
      "text/latex": [
       "42"
      ],
      "text/markdown": [
       "42"
      ],
      "text/plain": [
       "[1] 42"
      ]
     },
     "metadata": {},
     "output_type": "display_data"
    },
    {
     "data": {
      "text/html": [
       "42"
      ],
      "text/latex": [
       "42"
      ],
      "text/markdown": [
       "42"
      ],
      "text/plain": [
       "[1] 42"
      ]
     },
     "metadata": {},
     "output_type": "display_data"
    },
    {
     "name": "stdout",
     "output_type": "stream",
     "text": [
      "\n",
      "Cohen's d\n",
      "\n",
      "d estimate: 0.6652288 (medium)\n",
      "95 percent confidence interval:\n",
      "    lower     upper \n",
      "0.2192789 1.1111786 \n",
      "\n"
     ]
    }
   ],
   "source": [
    "data(\"CO2\")\n",
    "head(CO2)\n",
    "\n",
    "nonchilled = CO2[CO2$Treatment == 'nonchilled', c('uptake')]\n",
    "chilled = CO2[CO2$Treatment == 'chilled', c('uptake')]\n",
    "\n",
    "length(nonchilled)\n",
    "length(chilled)\n",
    "\n",
    "# Calculate Cohen's d\n",
    "library(effsize)\n",
    "d <- cohen.d(nonchilled, chilled)\n",
    "print(d)"
   ]
  },
  {
   "cell_type": "markdown",
   "id": "24630f0d-6bfc-4391-8c1f-188ad8467bbf",
   "metadata": {},
   "source": [
    "Now let's find out what power we can achieve with this number of data points, and this \"medium\" effect size."
   ]
  },
  {
   "cell_type": "code",
   "execution_count": 2,
   "id": "80eb26f0-60e8-4ce6-b1bb-40e409536977",
   "metadata": {},
   "outputs": [
    {
     "data": {
      "text/plain": [
       "\n",
       "     Two-sample t test power calculation \n",
       "\n",
       "              n = 42\n",
       "              d = 0.66\n",
       "      sig.level = 0.05\n",
       "          power = 0.9122186\n",
       "    alternative = greater\n",
       "\n",
       "NOTE: n is number in *each* group\n"
      ]
     },
     "metadata": {},
     "output_type": "display_data"
    }
   ],
   "source": [
    "library(pwr)\n",
    "pwr.t.test(n=42,d=0.66,sig.level=.05,alternative=\"greater\")"
   ]
  },
  {
   "cell_type": "markdown",
   "id": "049ec25d-80d5-4389-9f08-33a61eb31211",
   "metadata": {},
   "source": [
    "How many data points do we need to achieve a power of 0.8?"
   ]
  },
  {
   "cell_type": "code",
   "execution_count": 3,
   "id": "59205a12-f21b-4674-9159-3e4c02c28cd1",
   "metadata": {},
   "outputs": [
    {
     "data": {
      "text/plain": [
       "\n",
       "     Two-sample t test power calculation \n",
       "\n",
       "              n = 29.08716\n",
       "              d = 0.66\n",
       "      sig.level = 0.05\n",
       "          power = 0.8\n",
       "    alternative = greater\n",
       "\n",
       "NOTE: n is number in *each* group\n"
      ]
     },
     "metadata": {},
     "output_type": "display_data"
    }
   ],
   "source": [
    "pwr.t.test(d=0.66,sig.level=.05,alternative=\"greater\", power=0.8)"
   ]
  },
  {
   "cell_type": "code",
   "execution_count": null,
   "id": "9716eb86-fc25-4d5b-a8de-6e1df96d1a95",
   "metadata": {},
   "outputs": [],
   "source": []
  }
 ],
 "metadata": {
  "kernelspec": {
   "display_name": "R",
   "language": "R",
   "name": "ir"
  },
  "language_info": {
   "codemirror_mode": "r",
   "file_extension": ".r",
   "mimetype": "text/x-r-source",
   "name": "R",
   "pygments_lexer": "r",
   "version": "4.2.2"
  }
 },
 "nbformat": 4,
 "nbformat_minor": 5
}
