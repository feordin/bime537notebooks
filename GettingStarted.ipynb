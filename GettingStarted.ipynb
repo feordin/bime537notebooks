{
 "cells": [
  {
   "cell_type": "markdown",
   "id": "133a773a-5f20-488b-8905-c33a9abffd57",
   "metadata": {},
   "source": [
    "# Getting started with R"
   ]
  },
  {
   "cell_type": "markdown",
   "id": "0d6cae9a",
   "metadata": {},
   "source": [
    "## Brief history of R\n",
    "- Programmers are great at naming\n",
    "    - Sequel or alternative to “S” language\n",
    "- Interactive (interpreted)\n",
    "- Focus on statistical packages and data handling\n",
    "- Released in 1995\n",
    "- CRAN created, Comprehensive R Archive Network\n",
    "    - 19,000+ packages\n"
   ]
  },
  {
   "cell_type": "markdown",
   "id": "882e34a7",
   "metadata": {},
   "source": [
    "## R Syntax"
   ]
  },
  {
   "cell_type": "code",
   "execution_count": null,
   "id": "89a2ec5b-f20e-45a5-b975-5732f5080807",
   "metadata": {
    "vscode": {
     "languageId": "r"
    }
   },
   "outputs": [],
   "source": [
    "# Basic math\n",
    "print(\"4 * 9\")\n",
    "4 * 9\n",
    "\n",
    "# Logical operators\n",
    "print (\"2 < 3\")\n",
    "2 < 3\n",
    "\n",
    "# Data types\n",
    "class(5)  # Numeric\n",
    "class(\"Hello\")  # Character\n",
    "class(TRUE)  # Logical\n",
    "\n",
    "# assignments\n",
    "print(\"Create a vector\")\n",
    "v1 <- c(1,2,3,4,5)\n",
    "v1\n",
    "print(\"Second vector\")\n",
    "v2 = c('a','b','c','d')\n",
    "v2\n",
    "\n",
    "# Lists\n",
    "lst <- list(name=\"John\", age=30, scores=c(90, 85, 88))\n",
    "lst\n",
    "\n",
    "# Matrices\n",
    "mat <- matrix(1:9, nrow=3, byrow=TRUE)\n",
    "mat"
   ]
  },
  {
   "cell_type": "markdown",
   "id": "5a810f0f",
   "metadata": {},
   "source": [
    "## Working with Data in R"
   ]
  },
  {
   "cell_type": "code",
   "execution_count": null,
   "id": "a46329d1",
   "metadata": {
    "vscode": {
     "languageId": "r"
    }
   },
   "outputs": [],
   "source": [
    "# Creating a data frame\n",
    "df <- data.frame(ID = 1:5, Score = c(90, 85, NA, 78, 92))\n",
    "head(df)\n",
    "\n",
    "# Accessing elements\n",
    "df$Score\n",
    "df[1, 2]  # Row 1, Column 2\n",
    "\n",
    "# Handling missing values\n",
    "mean(df$Score, na.rm=TRUE)\n",
    "df_no_NA <- na.omit(df)  # Remove rows with NA\n",
    "\n",
    "# Importing a CSV file\n",
    "bodyfat <- read.csv(\"body_fat.csv\")\n",
    "head(bodyfat)"
   ]
  },
  {
   "cell_type": "markdown",
   "id": "107d7424-2692-4761-8628-c5f1e25787b5",
   "metadata": {},
   "source": [
    "## Built in data sets in R"
   ]
  },
  {
   "cell_type": "code",
   "execution_count": null,
   "id": "f83e2426-6930-49e2-9285-cfc2d06c5d07",
   "metadata": {
    "vscode": {
     "languageId": "r"
    }
   },
   "outputs": [],
   "source": [
    "# tell R that we want to use the built in sample data\n",
    "data()"
   ]
  },
  {
   "cell_type": "code",
   "execution_count": null,
   "id": "b2dc7366-5190-44dd-8cff-9f33e8e0d58e",
   "metadata": {
    "vscode": {
     "languageId": "r"
    }
   },
   "outputs": [],
   "source": [
    "# load a sample data set\n",
    "data(pressure)\n",
    "\n",
    "# display the first few rows of the data set\n",
    "head(pressure)\n",
    "\n",
    "# get some info on the data set\n",
    "help(pressure)"
   ]
  },
  {
   "cell_type": "code",
   "execution_count": null,
   "id": "80fd1669-3e61-4d59-a515-dee42dbdf84e",
   "metadata": {
    "vscode": {
     "languageId": "r"
    }
   },
   "outputs": [],
   "source": [
    "# reference a built in dataset without loading all of it\n",
    "women$weight"
   ]
  },
  {
   "cell_type": "markdown",
   "id": "673d3b7c",
   "metadata": {},
   "source": [
    "## Basic statistical functions"
   ]
  },
  {
   "cell_type": "code",
   "execution_count": null,
   "id": "615d6f78",
   "metadata": {
    "vscode": {
     "languageId": "r"
    }
   },
   "outputs": [],
   "source": [
    "# Descriptive statistics\n",
    "data <- c(10, 15, 20, 25, 30, 35, 40)\n",
    "\n",
    "mean(data)  # Mean\n",
    "median(data)  # Median\n",
    "var(data)  # Variance\n",
    "sd(data)  # Standard deviation"
   ]
  },
  {
   "cell_type": "markdown",
   "id": "154dba34",
   "metadata": {},
   "source": [
    "## R packages"
   ]
  },
  {
   "cell_type": "code",
   "execution_count": null,
   "id": "49e9222d",
   "metadata": {
    "vscode": {
     "languageId": "r"
    }
   },
   "outputs": [],
   "source": [
    "# install packages, only needs to be once per environment\n",
    "# install.packages(\"ggplot2\")\n",
    "# install.packages(\"dplyr\")\n",
    "\n",
    "# tell R you are going to use a package, so load into memory\n",
    "library(ggplot2)\n",
    "library(dplyr)\n",
    "\n",
    "# Using dplyr for data manipulation\n",
    "df <- data.frame(Name=c(\"Alice\", \"Bob\", \"Charlie\"), Age=c(25, 30, 28), Score=c(90, 85, 88))\n",
    "\n",
    "# Filter rows\n",
    "df_filtered <- df %>% filter(Age > 26)\n",
    "\n",
    "# Mutate (add new column)\n",
    "df <- df %>% mutate(Passed = Score > 85)\n",
    "\n",
    "# Summarize\n",
    "df_summary <- df %>% summarize(Average_Score = mean(Score))\n",
    "\n",
    "# ggplot2 example\n",
    "ggplot(df, aes(x=Name, y=Score, fill=Name)) +\n",
    "    geom_bar(stat=\"identity\") +\n",
    "    theme_minimal()\n"
   ]
  }
 ],
 "metadata": {
  "kernelspec": {
   "display_name": "R",
   "language": "R",
   "name": "ir"
  },
  "language_info": {
   "codemirror_mode": "r",
   "file_extension": ".r",
   "mimetype": "text/x-r-source",
   "name": "R",
   "pygments_lexer": "r",
   "version": "4.4.2"
  }
 },
 "nbformat": 4,
 "nbformat_minor": 5
}
