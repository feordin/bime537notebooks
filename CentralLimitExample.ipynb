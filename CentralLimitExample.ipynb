{
 "cells": [
  {
   "cell_type": "code",
   "execution_count": null,
   "id": "22596d1c-1804-466b-8d1e-51031dc75cad",
   "metadata": {
    "vscode": {
     "languageId": "r"
    }
   },
   "outputs": [],
   "source": [
    "#FROM : https://www.statology.org/central-limit-theorem-in-r/\n",
    "\n",
    "#make this example reproducible\n",
    "set.seed(0)\n",
    "\n",
    "#create random variable with sample size of 1000 that is uniformally distributed\n",
    "data <- runif(n=1000, min=2, max=6)\n",
    "\n",
    "#create histogram to visualize distribution of turtle shell widths\n",
    "hist(data, col='steelblue', main='Histogram of Turtle Shell Widths')"
   ]
  },
  {
   "cell_type": "code",
   "execution_count": 2,
   "id": "1e1b8b1f-357a-4248-9b1a-cf319deec84b",
   "metadata": {
    "vscode": {
     "languageId": "r"
    }
   },
   "outputs": [],
   "source": [
    "#create empty vector to hold sample means\n",
    "sample5 <- c()\n",
    "\n",
    "#take 1,000 random samples of size n=5\n",
    "n = 1000\n",
    "for (i in 1:n){\n",
    "sample5[i] = mean(sample(data, 5, replace=TRUE))\n",
    "}"
   ]
  },
  {
   "cell_type": "code",
   "execution_count": null,
   "id": "4d815d69-6194-422c-bd20-8f0a8b16f0bd",
   "metadata": {
    "vscode": {
     "languageId": "r"
    }
   },
   "outputs": [],
   "source": [
    "#calculate mean and standard deviation of sample means\n",
    "mean(sample5)\n",
    "\n",
    "sd(sample5)"
   ]
  },
  {
   "cell_type": "code",
   "execution_count": null,
   "id": "0426315a-3b5a-425f-a84e-80588df40f51",
   "metadata": {
    "vscode": {
     "languageId": "r"
    }
   },
   "outputs": [],
   "source": [
    "#create histogram to visualize sampling distribution of sample means\n",
    "hist(sample5, col ='steelblue', xlab='Turtle Shell Width', main='Sample size = 5')"
   ]
  },
  {
   "cell_type": "code",
   "execution_count": null,
   "id": "ff950866-f7dd-4a17-8a7e-08147c07dcc2",
   "metadata": {
    "vscode": {
     "languageId": "r"
    }
   },
   "outputs": [],
   "source": [
    "#create empty vector to hold sample means\n",
    "sample30 <- c()\n",
    "\n",
    "#take 1,000 random samples of size n=30\n",
    "n = 1000\n",
    "for (i in 1:n){\n",
    "sample30[i] = mean(sample(data, 30, replace=TRUE))\n",
    "}\n",
    "\n",
    "#create histogram to visualize sampling distribution of sample means\n",
    "hist(sample30, col ='steelblue', xlab='Turtle Shell Width', main='Sample size = 30')"
   ]
  },
  {
   "cell_type": "code",
   "execution_count": null,
   "id": "efc737ab-438f-4ef6-81ed-680e42443a7e",
   "metadata": {
    "vscode": {
     "languageId": "r"
    }
   },
   "outputs": [],
   "source": [
    "#calculate mean and standard deviation of sample means\n",
    "mean = mean(sample30)\n",
    "\n",
    "sd = sd(sample30)"
   ]
  },
  {
   "cell_type": "code",
   "execution_count": null,
   "id": "193eea67-e424-42b9-987e-b46e3f9dc375",
   "metadata": {
    "vscode": {
     "languageId": "r"
    }
   },
   "outputs": [],
   "source": [
    "library(ggplot2)\n",
    "\n",
    "set.seed(22032022) \n",
    "\n",
    "# generate random numbers \n",
    "randomNumbers <- rnorm(n=1000, mean=10, sd=10)\n",
    "\n",
    "randomNumbers_mean <- mean(randomNumbers)\n",
    "randomNumbers_sd <- sd(randomNumbers)\n",
    "\n",
    "ggplot(data.frame(randomNumbers = randomNumbers), aes(randomNumbers)) +\n",
    "  geom_histogram(aes(\n",
    "    fill = ifelse(\n",
    "      randomNumbers > randomNumbers_mean + randomNumbers_sd |\n",
    "        randomNumbers < randomNumbers_mean - randomNumbers_sd,\n",
    "      \"Outside range\",\n",
    "      \"Within range\"\n",
    "    )\n",
    "  ), \n",
    "  binwidth = 1, col = \"gray\") +\n",
    "  geom_density(aes(y = after_stat(count))) + \n",
    "  stat_function(fun = function(x) dnorm(x, mean = 10, sd = 10) * 1000,\n",
    "                color = \"blue\") +\n",
    "  labs(fill = \"Data\")"
   ]
  },
  {
   "cell_type": "code",
   "execution_count": null,
   "id": "16407ee1-0a25-4cec-ae45-09d0705dcb9e",
   "metadata": {
    "vscode": {
     "languageId": "r"
    }
   },
   "outputs": [],
   "source": []
  }
 ],
 "metadata": {
  "kernelspec": {
   "display_name": "R",
   "language": "R",
   "name": "ir"
  },
  "language_info": {
   "codemirror_mode": "r",
   "file_extension": ".r",
   "mimetype": "text/x-r-source",
   "name": "R",
   "pygments_lexer": "r",
   "version": "4.2.2"
  }
 },
 "nbformat": 4,
 "nbformat_minor": 5
}
