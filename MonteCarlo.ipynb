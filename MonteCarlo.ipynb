{
 "cells": [
  {
   "cell_type": "markdown",
   "metadata": {},
   "source": [
    "# Monte Carlo Simulation of patient arrival at a hospital"
   ]
  },
  {
   "cell_type": "code",
   "execution_count": null,
   "metadata": {
    "vscode": {
     "languageId": "r"
    }
   },
   "outputs": [],
   "source": [
    "# Load necessary libraries\n",
    "#install.packages(\"ggplot2\")\n",
    "library(ggplot2)\n",
    "\n",
    "# Set random seed for reproducibility\n",
    "set.seed(123)\n",
    "\n",
    "# Simulation parameters\n",
    "lambda <- 10 / 60  # Arrival rate per minute (10 patients per hour)\n",
    "mu_critical <- 1 / 30  # Service rate for critical patients (1 patient per 10 mins)\n",
    "mu_noncritical <- 1 / 10  # Service rate for non-critical patients (1 patient per 5 mins)\n",
    "simulation_time <- 720  # Simulate for 12 hours (720 minutes)\n",
    "num_simulations <- 1000  # Number of Monte Carlo runs\n",
    "num_doctors <- 3  # Number of available doctors\n",
    "\n",
    "# Priority system with misclassification\n",
    "critical_probability <- 0.2  # True critical patients (20%)\n",
    "misclassification_rate <- 0.5  # 50% of non-critical patients are misclassified\n",
    "\n",
    "# Store results\n",
    "waiting_times_critical <- numeric(num_simulations)\n",
    "waiting_times_noncritical <- numeric(num_simulations)"
   ]
  },
  {
   "cell_type": "code",
   "execution_count": 12,
   "metadata": {
    "vscode": {
     "languageId": "r"
    }
   },
   "outputs": [],
   "source": [
    "for (i in 1:num_simulations) {\n",
    "  time <- 0  # Current simulation time\n",
    "  queue_critical <- c()  # Queue for critical patients\n",
    "  queue_noncritical <- c()  # Queue for non-critical patients\n",
    "  doctors_available <- rep(0, num_doctors)  # Track when each doctor is free\n",
    "  \n",
    "  while (time < simulation_time) {\n",
    "    # Generate next patient arrival time\n",
    "    interarrival_time <- rexp(1, rate = lambda)\n",
    "    time <- time + interarrival_time\n",
    "    \n",
    "    # Determine if patient is truly critical or non-critical\n",
    "    is_true_critical <- runif(1) < critical_probability  # 20% chance of being truly critical\n",
    "    \n",
    "    # Misclassification logic: 50% of non-critical patients are wrongly classified as critical\n",
    "    if (!is_true_critical && runif(1) < misclassification_rate) {\n",
    "      is_critical <- TRUE\n",
    "      misclassified <- TRUE\n",
    "    } else {\n",
    "      is_critical <- is_true_critical\n",
    "      misclassified <- FALSE\n",
    "    }\n",
    "    \n",
    "    # Generate service time\n",
    "    if (is_critical) {\n",
    "      if (misclassified) {\n",
    "        service_time <- rexp(1, rate = 2 * mu_critical)  # Misclassified patients take half the critical service time\n",
    "      } else {\n",
    "        service_time <- rexp(1, rate = mu_critical)  # True critical service time\n",
    "      }\n",
    "    } else {\n",
    "      service_time <- rexp(1, rate = mu_noncritical)  # Normal non-critical service time\n",
    "    }\n",
    "    \n",
    "    # Find the first available doctor\n",
    "    next_available_time <- min(doctors_available)\n",
    "    doctor_index <- which.min(doctors_available)\n",
    "    \n",
    "    # Determine start time based on priority queueing and doctor availability\n",
    "    if (is_critical) {\n",
    "      start_time <- max(time, queue_critical[length(queue_critical)], next_available_time, na.rm = TRUE)\n",
    "      queue_critical <- c(queue_critical, start_time + service_time)\n",
    "      waiting_times_critical[i] <- waiting_times_critical[i] + (start_time - time)\n",
    "      \n",
    "      # If patient was misclassified, they are now correctly reallocated\n",
    "      if (misclassified) {\n",
    "        # After half the usual critical service time, they go back to non-critical queue\n",
    "        start_time <- max(queue_critical[length(queue_critical)], queue_noncritical[length(queue_noncritical)], na.rm = TRUE)\n",
    "        queue_noncritical <- c(queue_noncritical, start_time + service_time)\n",
    "        waiting_times_noncritical[i] <- waiting_times_noncritical[i] + (start_time - time)\n",
    "      }\n",
    "    } else {\n",
    "      start_time <- max(time, \n",
    "                        ifelse(length(queue_critical) > 0, queue_critical[length(queue_critical)], 0),\n",
    "                        ifelse(length(queue_noncritical) > 0, queue_noncritical[length(queue_noncritical)], 0),\n",
    "                        next_available_time, na.rm = TRUE)\n",
    "      queue_noncritical <- c(queue_noncritical, start_time + service_time)\n",
    "      waiting_times_noncritical[i] <- waiting_times_noncritical[i] + (start_time - time)\n",
    "    }\n",
    "    \n",
    "    # Assign doctor to this patient\n",
    "    doctors_available[doctor_index] <- start_time + service_time\n",
    "  }\n",
    "}\n",
    "\n",
    "# Convert waiting times to minutes\n",
    "waiting_times_critical <- waiting_times_critical / num_simulations\n",
    "waiting_times_noncritical <- waiting_times_noncritical / num_simulations"
   ]
  },
  {
   "cell_type": "code",
   "execution_count": 14,
   "metadata": {
    "vscode": {
     "languageId": "r"
    }
   },
   "outputs": [
    {
     "data": {
      "image/png": "[encoded data removed]",
      "text/plain": [
       "plot without title"
      ]
     },
     "metadata": {
      "image/png": {
       "height": 420,
       "width": 420
      }
     },
     "output_type": "display_data"
    }
   ],
   "source": [
    "# Create a data frame for visualization\n",
    "df <- data.frame(\n",
    "  Type = rep(c(\"Critical\", \"Non-Critical\"), each = num_simulations),\n",
    "  Waiting_Time = c(waiting_times_critical, waiting_times_noncritical)\n",
    ")\n",
    "\n",
    "# Plot histogram\n",
    "ggplot(df, aes(x = Waiting_Time, fill = Type)) +\n",
    "  geom_histogram(bins = 30, alpha = 0.6, position = \"identity\") +\n",
    "  labs(title = \"Patient Waiting Times (With Triage Misclassification)\",\n",
    "       x = \"Waiting Time (Minutes)\",\n",
    "       y = \"Frequency\") +\n",
    "  theme_minimal() +\n",
    "  scale_fill_manual(values = c(\"red\", \"blue\"))"
   ]
  }
 ],
 "metadata": {
  "kernelspec": {
   "display_name": "R",
   "language": "R",
   "name": "ir"
  },
  "language_info": {
   "codemirror_mode": "r",
   "file_extension": ".r",
   "mimetype": "text/x-r-source",
   "name": "R",
   "pygments_lexer": "r",
   "version": "4.4.2"
  }
 },
 "nbformat": 4,
 "nbformat_minor": 2
}
